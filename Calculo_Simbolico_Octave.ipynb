{
  "nbformat": 4,
  "nbformat_minor": 0,
  "metadata": {
    "colab": {
      "name": "Calculo_Simbolico_Octave.ipynb",
      "provenance": []
    },
    "kernelspec": {
      "name": "python3",
      "display_name": "Python 3"
    },
    "language_info": {
      "name": "python"
    }
  },
  "cells": [
    {
      "cell_type": "markdown",
      "source": [
        "Se desea obtener mediante **cálculo simbólico** la versión lineal del péndulo en el equilibrio inestable.\n",
        "Se emplea Taylor previo reemplazo de cos(𝛷) ≈1 y sen(𝛷)≈𝛷 aprox a fi.\n",
        "Luego se presenta el sistema matricial."
      ],
      "metadata": {
        "id": "q1c5o2F3m9bS"
      }
    },
    {
      "cell_type": "code",
      "source": [
        "!apt install octave"
      ],
      "metadata": {
        "colab": {
          "base_uri": "https://localhost:8080/"
        },
        "id": "KHolfpMomp-d",
        "outputId": "02ff0902-f023-4c41-9f02-bcf378a0ae2c"
      },
      "execution_count": null,
      "outputs": [
        {
          "output_type": "stream",
          "name": "stdout",
          "text": [
            "Reading package lists... Done\n",
            "Building dependency tree       \n",
            "Reading state information... Done\n",
            "octave is already the newest version (4.2.2-1ubuntu1).\n",
            "The following package was automatically installed and is no longer required:\n",
            "  libnvidia-common-460\n",
            "Use 'apt autoremove' to remove it.\n",
            "0 upgraded, 0 newly installed, 0 to remove and 49 not upgraded.\n"
          ]
        }
      ]
    },
    {
      "cell_type": "code",
      "source": [
        "!apt install octave-symbolic"
      ],
      "metadata": {
        "colab": {
          "base_uri": "https://localhost:8080/"
        },
        "id": "c-qggljimwJN",
        "outputId": "dea593f7-7e21-43b0-df1d-0a035c717464"
      },
      "execution_count": null,
      "outputs": [
        {
          "output_type": "stream",
          "name": "stdout",
          "text": [
            "Reading package lists... Done\n",
            "Building dependency tree       \n",
            "Reading state information... Done\n",
            "octave-symbolic is already the newest version (2.6.0-3build1).\n",
            "The following package was automatically installed and is no longer required:\n",
            "  libnvidia-common-460\n",
            "Use 'apt autoremove' to remove it.\n",
            "0 upgraded, 0 newly installed, 0 to remove and 49 not upgraded.\n"
          ]
        }
      ]
    },
    {
      "cell_type": "markdown",
      "source": [
        "Se debe agregar en el .m el path donde está el Python, mediante una línea como ésta:\n",
        "\n",
        "---\n",
        "\n",
        "\n",
        "**setenv PYTHON /usr/bin/python**\n",
        "\n",
        "\n",
        "---\n",
        "\n",
        "\n",
        "para acceder al sympy desde symbolic. No obtante, puede ser diferente el path y debe verificarse en caso de que no funcione.\n"
      ],
      "metadata": {
        "id": "sbVJaKvSiGdg"
      }
    },
    {
      "cell_type": "code",
      "execution_count": null,
      "metadata": {
        "colab": {
          "base_uri": "https://localhost:8080/"
        },
        "id": "easnKejkmcHH",
        "outputId": "93e8c9d6-4f89-412c-f8be-17c2b353d658"
      },
      "outputs": [
        {
          "output_type": "stream",
          "name": "stdout",
          "text": [
            "Overwriting Controlador.m\n"
          ]
        }
      ],
      "source": [
        "%%writefile Controlador.m\n",
        "clear all; clc;\n",
        "setenv PYTHON /usr/bin/python %Acá está el vinculo con Pyton, para acceder al sympy desde symbolic\n",
        "%/usr/bin/python\n",
        "pkg load symbolic %Primera vez que se corre el paquete simbólico de Python. \n",
        "syms fi fi_p fi_pp p p_p p_pp M m u long Fricc g; \n",
        "disp('Para el equilibrio inestable') \n",
        "ang_inic=0; \n",
        "p_pp=(1/(M+m))*(u-m*long*fi_pp+m*long*fi_p^2*fi-Fricc*p_p); %Pequeños angulos \n",
        "% fi_pp_=(1/long)*(g*sin(fi)-p_pp*cos(fi));%Expresión completa \n",
        "% fi_pp=(1/long)*(g*(fi)-p_pp); %Pequeños angulos para fi~0, sin(fi)~fi, cos(fi)~1 \n",
        "fi_pp=solve(fi_pp==(1/long)*(g*fi-p_pp),fi_pp); \n",
        "%disp('fi_pp='); pretty(simplify(fi_pp)); \n",
        "p_pp=subs(p_pp,'fi_pp',fi_pp); \n",
        "%disp('p_pp='); pretty(simplify(p_pp)) \n",
        "Mat_A=[[0 1 0 0]; \n",
        "[subs(subs(subs(subs(diff(p_pp, p), p,0),p_p,0),fi,ang_inic),fi_p,0), ... \n",
        "subs(subs(subs(subs(diff(p_pp, p_p), p,0),p_p,0),fi,ang_inic),fi_p,0), ... \n",
        "subs(subs(subs(subs(diff(p_pp, fi), p,0),p_p,0),fi,ang_inic),fi_p,0), ... \n",
        "subs(subs(subs(subs(diff(p_pp, fi_p), p,0),p_p,0),fi,ang_inic),fi_p,0)]; \n",
        "[0 0 0 1]; \n",
        "[subs(subs(subs(subs(diff(fi_pp, p), p,0),p_p,0),fi,ang_inic),fi_p,0),... \n",
        "subs(subs(subs(subs(diff(fi_pp, p_p), p,0),p_p,0),fi,ang_inic),fi_p,0),... \n",
        "subs(subs(subs(subs(diff(fi_pp, fi), p,0),p_p,0),fi,ang_inic),fi_p,0),... \n",
        "subs(subs(subs(subs(diff(fi_pp, fi_p), p,0),p_p,0),fi,ang_inic),fi_p,0)]]; \n",
        "Mat_B=[0; \n",
        "subs(subs(subs(subs(diff(p_pp, u), p,0),p_p,0),fi,ang_inic),fi_p,0);... \n",
        "0; \n",
        "subs(subs(subs(subs(diff(fi_pp, u), p,0),p_p,0),fi,ang_inic),fi_p,0)]; \n",
        "disp('A=')\n",
        "pretty(simplify(Mat_A)) \n",
        "disp('B=')\n",
        "pretty(simplify(Mat_B))\n",
        "syms Mat_C;\n",
        "Mat_C=[[1 0 0 0];[0 0 1 0]];\n",
        "disp('C=')\n",
        "(Mat_C)\n",
        "disp('D=0')"
      ]
    },
    {
      "cell_type": "code",
      "source": [
        ""
      ],
      "metadata": {
        "id": "mnoy24szuevR"
      },
      "execution_count": null,
      "outputs": []
    },
    {
      "cell_type": "code",
      "source": [
        "# -W : no window system\n",
        "!octave -W Controlador.m"
      ],
      "metadata": {
        "colab": {
          "base_uri": "https://localhost:8080/"
        },
        "id": "5zrZuM35ny1A",
        "outputId": "3bea21e3-48d5-4b24-a595-6a791c6ba39a"
      },
      "execution_count": null,
      "outputs": [
        {
          "output_type": "stream",
          "name": "stdout",
          "text": [
            "OctSymPy v2.6.0: this is free software without warranty, see source.\n",
            "Initializing communication with SymPy using a popen2() pipe.\n",
            "Some output from the Python subprocess (pid 3935) might appear next.\n",
            "Python 2.7.17 (default, Mar 18 2022, 13:21:42) \n",
            "[GCC 7.5.0] on linux2\n",
            "Type \"help\", \"copyright\", \"credits\" or \"license\" for more information.\n",
            ">>> >>> \n",
            "OctSymPy: Communication established.  SymPy v1.1.1.\n",
            "Para el equilibrio inestable\n",
            "A=\n",
            "  ⎡0     1         0      0⎤\n",
            "  ⎢                        ⎥\n",
            "  ⎢   -Fricc     -g⋅m      ⎥\n",
            "  ⎢0  ───────    ─────    0⎥\n",
            "  ⎢      M         M       ⎥\n",
            "  ⎢                        ⎥\n",
            "  ⎢0     0         0      1⎥\n",
            "  ⎢                        ⎥\n",
            "  ⎢   Fricc    g⋅(M + m)   ⎥\n",
            "  ⎢0  ──────   ─────────  0⎥\n",
            "  ⎣   M⋅long     M⋅long    ⎦\n",
            "B=\n",
            "  ⎡  0   ⎤\n",
            "  ⎢      ⎥\n",
            "  ⎢  1   ⎥\n",
            "  ⎢  ─   ⎥\n",
            "  ⎢  M   ⎥\n",
            "  ⎢      ⎥\n",
            "  ⎢  0   ⎥\n",
            "  ⎢      ⎥\n",
            "  ⎢ -1   ⎥\n",
            "  ⎢──────⎥\n",
            "  ⎣M⋅long⎦\n",
            "C=\n",
            "Mat_C =\n",
            "\n",
            "   1   0   0   0\n",
            "   0   0   1   0\n",
            "\n",
            "D=0\n",
            "\n"
          ]
        }
      ]
    }
  ]
}