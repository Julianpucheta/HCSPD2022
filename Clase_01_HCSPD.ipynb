{
  "nbformat": 4,
  "nbformat_minor": 0,
  "metadata": {
    "colab": {
      "name": "Clase_01_HCSPD.ipynb",
      "provenance": [],
      "include_colab_link": true
    },
    "kernelspec": {
      "name": "python3",
      "display_name": "Python 3"
    },
    "language_info": {
      "name": "python"
    }
  },
  "cells": [
    {
      "cell_type": "markdown",
      "metadata": {
        "id": "view-in-github",
        "colab_type": "text"
      },
      "source": [
        "<a href=\"https://colab.research.google.com/github/Julianpucheta/HCSPD2022/blob/main/Clase_01_HCSPD.ipynb\" target=\"_parent\"><img src=\"https://colab.research.google.com/assets/colab-badge.svg\" alt=\"Open In Colab\"/></a>"
      ]
    },
    {
      "cell_type": "markdown",
      "source": [
        "**En éste** Notebook están las instrucciones para correr algunas simulaciones de procesos dinámicos.\n",
        "Algunas están en .m y otras en Python.\n",
        "Si se quiere emplear un script de Octave, primero debe instalarse."
      ],
      "metadata": {
        "id": "GOZeDVWI6rxg"
      }
    },
    {
      "cell_type": "code",
      "execution_count": null,
      "metadata": {
        "colab": {
          "base_uri": "https://localhost:8080/"
        },
        "id": "Rhu7Xx97q0Dq",
        "outputId": "36a2867b-db07-4157-bef2-029bbfb069ed"
      },
      "outputs": [
        {
          "output_type": "stream",
          "name": "stdout",
          "text": [
            "Reading package lists... Done\n",
            "Building dependency tree       \n",
            "Reading state information... Done\n",
            "octave is already the newest version (4.2.2-1ubuntu1).\n",
            "The following package was automatically installed and is no longer required:\n",
            "  libnvidia-common-460\n",
            "Use 'apt autoremove' to remove it.\n",
            "0 upgraded, 0 newly installed, 0 to remove and 49 not upgraded.\n"
          ]
        }
      ],
      "source": [
        "#Instalo el Octave para Linux\n",
        "!apt install octave"
      ]
    },
    {
      "cell_type": "markdown",
      "source": [
        "Se va a escribir al script en el entorno del Colabs, y para ello se escribe el archivo empleando %%writefile con el nombre del archivo.\n"
      ],
      "metadata": {
        "id": "f6oPDewB89gY"
      }
    },
    {
      "cell_type": "code",
      "source": [
        "%%writefile Controlador.m\n",
        "warning('off','all');\n",
        "%Modelo extraído de https://www.redalyc.org/articulo.oa?id=70780106\n",
        "clear;%close all;\n",
        "ii=0;t_etapa=10*2.5e-03;wRef=2;tF=10;\n",
        "color_='r';\n",
        "Ts=t_etapa;\n",
        "u=0;TL=0.01;\n",
        "tita_Ref=2;\n",
        "kt=6e-5 ; %Nm/A\n",
        "Bm=0.005; %Nms/rad\n",
        "kr=0.01 ;% Nm/rad\n",
        "ke=0.055;% Vs/rad\n",
        "Lm= 5e-3;%mHy\n",
        "Rm=0.2;% ohm\n",
        "J=0.0044 ;%Nms^2/ rad\n",
        "Mat_A=[0 1 0 ;\n",
        "    %     0 -kr/J-Bm/J kt/J;%estaba incorrecto el de w, decia -kr/J -Bm/J\n",
        "    0 -Bm/J kt/J;%kr va a ser Torque de carga TL\n",
        "    0 -ke/Lm -Rm/Lm];\n",
        "disp('Autovalores de lazo abierto en:')\n",
        "eig(Mat_A) %1/400 es suficiente para el tiempo de muestreo\n",
        "Mat_B= [0;0;1/Lm];\n",
        "Mat_C=[1 0 0];\n",
        "A_d=Mat_A';\n",
        "B_d=Mat_C';\n",
        "C_d=Mat_B';\n",
        "Aa=[Mat_A,[0;0;0];-Mat_C,0];\n",
        "Ba=[Mat_B;0];\n",
        "% Mat_A=Aa;Mat_B=Ba;\n",
        "Mat_M=[Ba Aa*Ba Aa^2*Ba Aa^3*Ba];%Matriz Controlabilidad\n",
        "auto_val=eig(Aa);\n",
        "c_ai=poly(auto_val);\n",
        "Mat_W=[c_ai(4) c_ai(3) c_ai(2) 1;\n",
        "    c_ai(3) c_ai(2) 1 0;\n",
        "    c_ai(2) 1 0 0;\n",
        "    1 0 0 0];\n",
        "Mat_T=Mat_M*Mat_W;%\n",
        "A_controlable=inv(Mat_T)*Aa*Mat_T; %Verificacion de que T este bien\n",
        "a4=-A_controlable(4,1);\n",
        "a3=-A_controlable(4,2);\n",
        "a2=-A_controlable(4,3);\n",
        "a1=-A_controlable(4,4);\n",
        "q4=1e2;\n",
        "q3=1e5;\n",
        "q2=1e5;\n",
        "q1=1e5; \n",
        "Q=diag([q1 q2 q3 q4]);\n",
        "R=1;\n",
        "p1=.5*(-4*a4*R+sqrt((4*a4*R)^2+16*q1*R));\n",
        "p2=.5*(-4*a3*R+sqrt((4*a3*R)^2+16*q2*R));\n",
        "p3=.5*(-4*a2*R+sqrt((4*a2*R)^2+16*q3*R));\n",
        "p4=.5*(-3*a1*R+sqrt((3*a1*R)^2+8*q4*R));\n",
        "P=diag([p1 p2 p3 p4]);P(4,:)=[p1 p2 p3 p4];\n",
        "Ka=(([p1 p2 p3 p4])/(2*R))*inv(Mat_T);\n",
        "K=Ka;\n",
        "p_des=[-1;-2;-50;-1.51];\n",
        "alfa_ia=poly(p_des);\n",
        "%K=fliplr(alfa_ia(2:5)-c_ai(2:5))*inv(Mat_T);\n",
        "disp('Controlador ampliado en ')\n",
        "eig(Aa-Ba*Ka)\n",
        "%Cálculo del Observador---------------------------------------------------\n",
        "q3=1e0; %% aumenta K3 peligroso \n",
        "q2=1e0;% % aumenta K2\n",
        "q1=1e3; % aumenta K1\n",
        "Qo=diag([q1 q2 q3 ]);\n",
        "R=1e0;\n",
        "Mat_Mo=[B_d A_d*B_d A_d^2*B_d ];%Matriz Controlabilidad\n",
        "auto_val=eig(A_d);\n",
        "c_ai=poly(auto_val);\n",
        "Mat_Wo=[c_ai(3) c_ai(2) 1 ;\n",
        "    c_ai(2) 1 0 ;\n",
        "    1 0 0 ];\n",
        "Mat_To=Mat_Mo*Mat_Wo;%\n",
        "A_o=inv(Mat_To)*A_d*Mat_To; %Verificacion de que T este bien\n",
        "a3=-A_o(3,1);\n",
        "a2=-A_o(3,2);\n",
        "a1=-A_o(3,3);\n",
        "Q=diag([q1 q2 q3 ]);\n",
        "R=1e-1;\n",
        "p1=.5*(-4*a3*R+sqrt((4*a3*R)^2+16*q1*R));\n",
        "p2=.5*(-4*a2*R+sqrt((4*a2*R)^2+16*q2*R));\n",
        "p3=.5*(-3*a1*R+sqrt((3*a1*R)^2+8*q3*R));\n",
        "P=diag([p1 p2 p3 ]);P(3,:)=[p1 p2 p3 ];\n",
        "Ko=((([p1 p2 p3 ])/(2*R))*inv(Mat_To))';\n",
        "disp('Observador en ')\n",
        "eig(A_d-B_d*Ko')\n",
        "% break\n",
        "X=[0; 0;0];%ia=xant(1);wr=xant(2);titar=xant(3);\n",
        "psi=0;ii=0;\n",
        "x_hat=[0;0;0];\n",
        "t=0:t_etapa:tF;x1=0*t;x2=x1;x3=x1;\n",
        "for t=0:t_etapa:tF\n",
        "    ii=ii+1;\n",
        "    X=modmotorv(t_etapa, X, [u,TL]);\n",
        "    psi=psi+t_etapa*(tita_Ref-X(3));\n",
        "    Xc(1)=X(3);Xc(2)=X(2);Xc(3)=X(1);\n",
        "    %     u=-K(1:3)*Xc'-K(end)*psi; \n",
        "    u=-K(1:3)*x_hat-K(end)*psi; \n",
        "    x1(ii)=X(1);%Corriente\n",
        "    x2(ii)=X(2);%wp\n",
        "    x3(ii)=X(3);%tita X=[ia;wr;titar];\n",
        "    acc(ii)=u;\n",
        "    y_sal=Mat_C*Xc';\n",
        "    %________OBSERVADOR__________\n",
        "    y_sal_O=Mat_C*x_hat;\n",
        "    %     y_sal=Mat_C*estado;\n",
        "    x_hatp=Mat_A*x_hat+Mat_B*u+Ko*(y_sal-y_sal_O);\n",
        "    x_hat=x_hat+t_etapa*x_hatp;\n",
        "end\n",
        "t=0:t_etapa:tF;\n",
        "hfig1 = figure(1); set(hfig1, 'Visible', 'off');\n",
        "subplot(3,1,1);hold on;\n",
        "plot(t,x1,color_);title('Corriente i_t, Amp');\n",
        "subplot(3,1,2);hold on;\n",
        "plot(t,x3,color_);title('Salida y, \\theta_t');\n",
        "subplot(3,1,3);hold on;\n",
        "plot(t,acc,color_);title('Entrada u_t, v_a');\n",
        "xlabel('Tiempo [Seg.]');\n",
        "print(hfig1,'Tita_t','-dpng');\n",
        "save('Datos_Controlador.mat','-v7');"
      ],
      "metadata": {
        "id": "jobGliXyZKUm",
        "colab": {
          "base_uri": "https://localhost:8080/"
        },
        "outputId": "629891a4-79d2-441f-9fb8-8e26baeebf20"
      },
      "execution_count": null,
      "outputs": [
        {
          "output_type": "stream",
          "name": "stdout",
          "text": [
            "Writing Controlador.m\n"
          ]
        }
      ]
    },
    {
      "cell_type": "code",
      "source": [
        "%%writefile modmotorv.m\n",
        "function [X]=modmotorv(t_etapa, xant, accion)\n",
        "h=1e-7;\n",
        "Laa=366e-6;J=5e-9;Ra=55.6;B=0;Ki=6.49e-3;Km=6.53e-3;\n",
        "Laa= 5e-3;\n",
        "Bm=0.005;\n",
        "J=0.0044;\n",
        "Ra=0.2;\n",
        "Km=0.055; %ke\n",
        "Ki=6e-5; %kt \n",
        "h=2.5e-03; %https://www.redalyc.org/articulo.oa?id=70780106\n",
        "% kt=6*10^-5 ; %Nm/A Originales, de MH\n",
        "% Bm=0.005; %Nms/rad\n",
        "% kr=0.01 ;% Nm/rad \n",
        "% ke=0.055;% Vs/rad\n",
        "% Lm= 5*10^-3;%mHy\n",
        "% Rm=0.2;% ohm\n",
        "% J=0.0044 ;%Nms^2/ rad\n",
        "x=xant;\n",
        "ia=xant(1);wr=xant(2);titar=xant(3);Va=accion(1);TL=accion(2);\n",
        "for ii=1:t_etapa/h\n",
        "    ia_p=-(Ra/Laa)*ia-(Km/Laa)*wr+(1/Laa)*Va;\n",
        "    wr_p=(Ki/J)*ia-(Bm/J)*wr-(1/J)*TL;\n",
        "    ia=ia+ia_p*h;\n",
        "    wr=wr+wr_p*h;\n",
        "    titar=titar+wr*h;\n",
        "end\n",
        "X=[ia;wr;titar];"
      ],
      "metadata": {
        "id": "Yg1jIIOHZYwA",
        "colab": {
          "base_uri": "https://localhost:8080/"
        },
        "outputId": "1db7eeff-6301-4ab9-9f47-608bd6dd7b57"
      },
      "execution_count": null,
      "outputs": [
        {
          "output_type": "stream",
          "name": "stdout",
          "text": [
            "Overwriting modmotorv.m\n"
          ]
        }
      ]
    },
    {
      "cell_type": "markdown",
      "source": [
        "Con la instrucción !octave se ejecuta el Octave, y seguidamente le indica el nombre del .m.\n",
        "En el mismo código puede agregarse un par de comandos para cargar el resultado y mostrarlo.\n",
        "Por ejemplo, mostrando una imágen de gráficas."
      ],
      "metadata": {
        "id": "Du6Df0Yd9ff3"
      }
    },
    {
      "cell_type": "code",
      "source": [
        "# -W : no window system\n",
        "!octave -W Controlador.m\n",
        "import scipy.io\n",
        "mat = scipy.io.loadmat('/content/Datos_Controlador.mat')\n",
        "from PIL import Image\n",
        "imt = Image.open(\"/content/Tita_t.png\")\n",
        "imt"
      ],
      "metadata": {
        "id": "yCuBdHvKZcc4",
        "colab": {
          "base_uri": "https://localhost:8080/",
          "height": 1000
        },
        "outputId": "bfe45d09-d7e5-4a8f-ca37-b3d0d55c809f"
      },
      "execution_count": null,
      "outputs": [
        {
          "output_type": "stream",
          "name": "stdout",
          "text": [
            "Autovalores de lazo abierto en:\n",
            "ans =\n",
            "\n",
            "    0.00000\n",
            "   -1.14022\n",
            "  -39.99614\n",
            "\n",
            "Controlador ampliado en \n",
            "ans =\n",
            "\n",
            "  -32.35394 +  0.00000i\n",
            "   -0.48391 +  0.94891i\n",
            "   -0.48391 -  0.94891i\n",
            "   -8.61455 +  0.00000i\n",
            "\n",
            "Observador en \n",
            "ans =\n",
            "\n",
            "   -0.53839 +  1.48371i\n",
            "   -0.53839 -  1.48371i\n",
            "  -40.14050 +  0.00000i\n",
            "\n"
          ]
        },
        {
          "output_type": "execute_result",
          "data": {
            "text/plain": [
              "<PIL.PngImagePlugin.PngImageFile image mode=RGB size=1200x900 at 0x7F91F1849A10>"
            ],
            "image/png": "[encoded data removed]"
          },
          "metadata": {},
          "execution_count": 9
        }
      ]
    },
    {
      "cell_type": "markdown",
      "source": [
        "**Si se quiere emplear Python**, se puede escribir el código directamente en el mismo cuaderno, y correrlo. A continuación se muestra el script para simular un circuito RLC."
      ],
      "metadata": {
        "id": "ljaKVI_QFg2M"
      }
    },
    {
      "cell_type": "code",
      "source": [
        "import numpy as np\n",
        "import scipy as sp\n",
        "import scipy.signal\n",
        "from matplotlib import pyplot as plt\n",
        "from pylab import *\n",
        "h=1e-4;t_simul=1e-1;R=2.2e2;L=100e-3;C=100e-6;\n",
        "#h=1e-9;t_simul=1e-3;R=2.2e3;L=10e-6;C=100e-9;\n",
        "##\n",
        "A=np.array([[-R/L, -1/L],[1/C,0]])\n",
        "B=np.array([[1/L],[0]])\n",
        "x1=np.linspace(0,0,int(t_simul/h))\n",
        "x2=np.linspace(0,0,int(t_simul/h))\n",
        "u=np.linspace(0,0,int(t_simul/h))\n",
        "t=np.linspace(0,0,int(t_simul/h))\n",
        "Va=np.array([0])\n",
        "x=np.array([[0],[0]])\n",
        "xp=np.array([[0],[0]])\n",
        "####x2=x1 ojo , porque queda igualado para todo el programa\n",
        "for ii in range(int(t_simul/h)):\n",
        "  xp=np.matmul(A, x)+B*Va\n",
        "  x=x+xp*h\n",
        "  u[ii] = Va\n",
        "  Va = 12\n",
        "  x1[ii] = x[0]\n",
        "  x2[ii] = x[1]\n",
        "  t[ii] = ii*h\n",
        "##end\n",
        "fig, axs = plt.subplots(3)\n",
        "fig.suptitle('Circuito RLC')\n",
        "axs[0].plot(t, x1, linewidth =1.0)\n",
        "axs[0].grid( True )\n",
        "axs[0].set_ylabel('$i_L$')\n",
        "axs[1].plot(t, x2, linewidth =1.0)\n",
        "axs[1].set_ylabel('$v_c$')\n",
        "axs[1].grid( True )\n",
        "##plot(t, x2, linewidth =1.0)\n",
        "axs[2].plot(t, u, linewidth =1.0)\n",
        "axs[2].grid( True )\n",
        "axs[2].set_ylabel('$V_a$')\n",
        "axs[2].set_xlabel('Tiempo (s)')\n",
        "##title('Motor CC')\n",
        "grid( True )\n",
        "show()\n"
      ],
      "metadata": {
        "colab": {
          "base_uri": "https://localhost:8080/",
          "height": 308
        },
        "id": "PDkcIjwzQ-IB",
        "outputId": "a28db947-db32-4976-89d0-a049bf70690b"
      },
      "execution_count": null,
      "outputs": [
        {
          "output_type": "display_data",
          "data": {
            "text/plain": [
              "<Figure size 432x288 with 3 Axes>"
            ],
            "image/png": "[encoded data removed]"
          },
          "metadata": {
            "needs_background": "light"
          }
        }
      ]
    },
    {
      "cell_type": "markdown",
      "source": [
        "**Si se necesitan paquetes extras de Octave**, se deben cargar. En el siguiente script, que es para emplear el método Chen de identificación de sistemas lineales, se requieren signal, io, y control.\n",
        "Lei Chen, Junhong Li. “Identification for the second-order systems based on the step response”. Ruifeng Ding Mathematical and Computer Modelling 53 (2011) 1074–1083. https://linkinghub.elsevier.com/retrieve/pii/S0895717710005613."
      ],
      "metadata": {
        "id": "qGvyUZg-RCey"
      }
    },
    {
      "cell_type": "code",
      "source": [
        "!apt install octave-signal"
      ],
      "metadata": {
        "colab": {
          "base_uri": "https://localhost:8080/"
        },
        "id": "tAgVOG7Tq56k",
        "outputId": "8f67bb82-a3f4-4888-8617-8900a62b4511"
      },
      "execution_count": null,
      "outputs": [
        {
          "output_type": "stream",
          "name": "stdout",
          "text": [
            "Reading package lists... Done\n",
            "Building dependency tree       \n",
            "Reading state information... Done\n",
            "octave-signal is already the newest version (1.3.2-5).\n",
            "The following package was automatically installed and is no longer required:\n",
            "  libnvidia-common-460\n",
            "Use 'apt autoremove' to remove it.\n",
            "0 upgraded, 0 newly installed, 0 to remove and 49 not upgraded.\n"
          ]
        }
      ]
    },
    {
      "cell_type": "code",
      "source": [
        "!apt install octave-io"
      ],
      "metadata": {
        "colab": {
          "base_uri": "https://localhost:8080/"
        },
        "id": "t-_wmlCMq6Bu",
        "outputId": "77914500-1fdc-462f-8e05-460e8d30bf54"
      },
      "execution_count": null,
      "outputs": [
        {
          "output_type": "stream",
          "name": "stdout",
          "text": [
            "Reading package lists... Done\n",
            "Building dependency tree       \n",
            "Reading state information... Done\n",
            "octave-io is already the newest version (2.4.10-3).\n",
            "The following package was automatically installed and is no longer required:\n",
            "  libnvidia-common-460\n",
            "Use 'apt autoremove' to remove it.\n",
            "0 upgraded, 0 newly installed, 0 to remove and 49 not upgraded.\n"
          ]
        }
      ]
    },
    {
      "cell_type": "code",
      "source": [
        "!apt install octave-control"
      ],
      "metadata": {
        "colab": {
          "base_uri": "https://localhost:8080/"
        },
        "id": "_JFoG8m8q6Id",
        "outputId": "a1ce5d63-bf7a-4bc2-f617-8d2bb04dcb7e"
      },
      "execution_count": null,
      "outputs": [
        {
          "output_type": "stream",
          "name": "stdout",
          "text": [
            "Reading package lists... Done\n",
            "Building dependency tree       \n",
            "Reading state information... Done\n",
            "octave-control is already the newest version (3.0.0-5).\n",
            "The following package was automatically installed and is no longer required:\n",
            "  libnvidia-common-460\n",
            "Use 'apt autoremove' to remove it.\n",
            "0 upgraded, 0 newly installed, 0 to remove and 49 not upgraded.\n"
          ]
        }
      ]
    },
    {
      "cell_type": "code",
      "source": [
        "%%writefile ID_Chen.m\n",
        "clc; clear all; close all;\n",
        "pkg load control\n",
        "pkg load signal\n",
        "pkg load io\n",
        "warning('off','all');\n",
        "%{ \n",
        "--------------------------------------------------------------------------\n",
        "3- A partir de las curvas de mediciones de las variables graficadas en la \n",
        "Fig. 1-3, se requiere obtener el modelo del sistema considerando como \n",
        "entrada un escalón de 12V, como salida a la velocidad angular, y a partir \n",
        "de 0,1segundo se aplica un TL aproximado de 7,5 10-2 Nm. En el archivo \n",
        "Curvas_Medidas_Motor.xls están las mediciones, en la primer hoja los \n",
        "valores y en la segunda los nombres. Se requiere obtener el modelo \n",
        "dinámico, para establecer las constantes de la corriente.\n",
        "--------------------------------------------------------------------------\n",
        "%}\n",
        "%/content/Curvas_Medidas_Motor.xlsx\n",
        "tabla=xlsread('/content/Curvas_Medidas_Motor.xlsx');\n",
        "t_D=tabla(:,1);\n",
        "y_D=tabla(:,2);\n",
        "StepAmplitude=12; %12 V de entrada en Va\n",
        "%wr/va\n",
        "ret     =       0.0201;\n",
        "t       =       5e-4;\n",
        "[val lugar] =min(abs(t+ret-t_D));%Busco en ret+t1\n",
        "y_t=y_D(lugar);\n",
        "t=t_D(lugar)-ret; %t1\n",
        "\n",
        "[val lugar] =min(abs(2*t+ret-t_D));\n",
        "y_t2=y_D(lugar);\n",
        "t2=t_D(lugar)-ret;\n",
        "\n",
        "[val lugar] =min(abs(3*t+ret-t_D));\n",
        "y_t3=y_D(lugar);\n",
        "t3=t_D(lugar)-ret;\n",
        "% break\n",
        "% K=y(00)/U\n",
        "k       =       198.2488022/12;  \n",
        "% %CORROBORADOR DE PUNTOS\n",
        "% plot(tabla(:,1),tabla(:,2))\n",
        "% hold on\n",
        "% plot(t+ret,y_t,'o')\n",
        "% plot(t2+ret,y_t2,'o')\n",
        "% plot(t3+ret,y_t3,'o')\n",
        "\n",
        "% break\n",
        "%METODO DE CHEN\n",
        "%Funcion de la forma G(s)=K*(s+T3)/[(s+T1+1).(s+T2+1)] luego se puede\n",
        "%despreciar el cero\n",
        "k1      =       (1/StepAmplitude)*y_t/k-1;\n",
        "k2      =       (1/StepAmplitude)*y_t2/k-1; \n",
        "k3      =       (1/StepAmplitude)*y_t3/k-1; \n",
        "b       =       4*k1^3*k3-3*k1^2*k2^2-4*k2^3+k3^2+6*k1*k2*k3;\n",
        "alfa1   =       (k1*k2+k3-sqrt(b))/(2*(k1^2+k2));\n",
        "alfa2   =       (k1*k2+k3+sqrt(b))/(2*(k1^2+k2));\n",
        "beta    =       (2*k1^3+3*k1*k2+k3-sqrt(b))/(sqrt(b));\n",
        "T1      =       (-t/log(alfa1))\n",
        "T2      =       (-t/log(alfa2))\n",
        "T1=real(T1);T2=real(T2);%importa sólo la parte real\n",
        "T3      =       real(beta*(T1-T2)+T1);\n",
        "sys_va=tf(k,conv([T1 1],[T2 1]));\n",
        "dt=3e-5;\n",
        "t_s=0:dt:t_D(end-1);\n",
        "u1_Va=zeros(ret/dt,1);\n",
        "u2_Va=12*ones((.6-ret)/dt,1);%Va=12V\n",
        "u1_T=zeros(fix(.1000/dt)+1,1); %TL=0\n",
        "u2_T=ones(fix((.6-.100)/dt),1);\n",
        "u_Va=[u1_Va;u2_Va];\n",
        "% plot(t_s,u_Va);title('Tensión de entrada')\n",
        "u_T=[u1_T;u2_T];\n",
        "% plot(t_s,u_T);title('Torque de entrada')\n",
        "[y1,t1,ent]=lsim(sys_va, u_Va, t_s, [0,0]);\n",
        "% figure\n",
        "% plot(tabla(:,1),tabla(:,2))\n",
        "% hold on\n",
        "% plot(t1,y1,'k')\n",
        "% plot(t+ret,y_t,'o')\n",
        "% plot(t2+ret,y_t2,'o')\n",
        "% plot(t3+ret,y_t3,'o')\n",
        "% break\n",
        "%wr/TL\n",
        "% t_tl       =       0.1002-ret_tl;                   \n",
        "% y_t_tl     =       160.549509;\n",
        "ret_tl     =       0.1+2e-4;\n",
        "t_tl=2e-4;\n",
        "[val lugar] =min(abs(t_tl+ret_tl-t_D));\n",
        "y_t_tl=y_D(lugar);\n",
        "t_tl=t_D(lugar)-ret_tl;\n",
        "% t2_tl      =       0.1005-ret_tl;\n",
        "% y_t2_tl    =       101.4371121;\n",
        "[val lugar] =min(abs(2*t_tl+ret_tl-t_D));\n",
        "y_t2_tl=y_D(lugar);\n",
        "t2_tl=t_D(lugar)-ret_tl;\n",
        "% t3_tl      =       0.1008-ret_tl;\n",
        "% y_t3_tl    =       72.4383423;\n",
        "[val lugar] =min(abs(3*t_tl+ret_tl-t_D));\n",
        "y_t3_tl=y_D(lugar);\n",
        "t3_tl=t_D(lugar)-ret_tl;\n",
        "% 7,5 10-2\n",
        "TL=7.5e-2;% TL:Amplitud del escalon de Torque de entrada\n",
        "% K=y(00)/U\n",
        "k_tl       =       -(46.2-198)/TL;\n",
        "% %CORROBORADOR DE PUNTOS\n",
        "% plot(tabla(:,1),-tabla(:,2)+k)\n",
        "% hold on\n",
        "% plot(t_tl+ret_tl,y_t_tl,'o')\n",
        "% plot(t2_tl+ret_tl,y_t2_tl,'o')\n",
        "% plot(t3_tl+ret_tl,y_t3_tl,'o')\n",
        "%METODO DE CHEN\n",
        "% % % k1_tl      =      (1/TL)*y_t_tl/k_tl-1;\n",
        "% % % k2_tl      =   (1/TL)*y_t2_tl/k_tl-1; \n",
        "% % % k3_tl      =     (1/TL)*y_t3_tl/k_tl-1; \n",
        "yid_1=-(y_t_tl-198.2)\n",
        "yid_2=-(y_t2_tl-198.2)\n",
        "yid_3=-(y_t3_tl-198.2)\n",
        "% plot(tabla(:,1),tabla(:,2));hold on;%plot(t_tl,yid_1,'o',t2_tl,yid_2,'o',t3_tl,yid_3,'o')\n",
        "% plot(t_tl+ret_tl,yid_1,'o',t2_tl+ret_tl,yid_2,'o',t3_tl+ret_tl,yid_3,'o')\n",
        "k1_tl      =      (1/TL)*yid_1/k_tl-1;\n",
        "k2_tl      =   (1/TL)*yid_2/k_tl-1; \n",
        "k3_tl      =     (1/TL)*yid_3/k_tl-1; \n",
        "b_tl       =       4*k1_tl^3*k3_tl-3*k1_tl^2*k2_tl^2-4*k2_tl^3+k3_tl^2+6*k1_tl*k2_tl*k3_tl;\n",
        "alfa1_tl   =       (k1_tl*k2_tl+k3_tl-sqrt(b_tl))/(2*(k1_tl^2+k2_tl));\n",
        "alfa2_tl   =       (k1_tl*k2_tl+k3_tl+sqrt(b_tl))/(2*(k1_tl^2+k2_tl));\n",
        "beta_tl    =       (2*k1_tl^3+3*k1_tl*k2_tl+k3_tl-sqrt(b_tl))/(sqrt(b_tl));\n",
        "T1_tl      =       (-t_tl/log(alfa1_tl)) \n",
        "T2_tl      =       (-t_tl/log(alfa2_tl))\n",
        "T1_tl=real(T1_tl);T2_tl=real(T2_tl);\n",
        "%importa sólo la parte real\n",
        "T3_tl      =       beta_tl*(T1_tl-T2_tl)+T1_tl;\n",
        "sys_T=tf(k_tl*[T3_tl 1],conv([T1_tl 1],[T2_tl 1]));\n",
        "dt=3e-5;\n",
        "t_s=(0:dt:t_D(end-1))';\n",
        "u1_Va=zeros(ret/dt,1);\n",
        "u2_Va=12*ones((.6-ret)/dt,1);%Va=12V\n",
        "u1_T=zeros(fix(.1000/dt)+1,1); %TL=0\n",
        "u2_T=TL*ones(fix((.6-.100)/dt),1);\n",
        "u_Va=[u1_Va;u2_Va];\n",
        "% plot(t_s,u_Va);title('Tensión de entrada')\n",
        "u_T=[u1_T;u2_T];\n",
        "% plot(t_s,u_T);title('Torque de entrada')\n",
        "[y2,t2_,ent2]=lsim(sys_T, u_T, t_s,[0,0]);\n",
        "\n",
        "hfig1 = figure(1); set(hfig1, 'Visible', 'off');\n",
        "hold on;\n",
        "plot(tabla(:,1),tabla(:,2))\n",
        "plot(t_s,y1-y2,'r');legend('Datos','Modelado')\n",
        "plot(t +ret,y_t,'o',t2+ret,y_t2,'o',t3+ret,y_t3,'o')\n",
        "plot(t_tl+ret_tl,y_t_tl,'o',t2_tl+ret_tl,y_t2_tl,'o',t3_tl+ret_tl,y_t3_tl,'o')\n",
        "print(hfig1,'Resultados_ID_Chen','-dpng');\n",
        "save('ID_Chen.mat','-v7');"
      ],
      "metadata": {
        "colab": {
          "base_uri": "https://localhost:8080/"
        },
        "id": "qWUmRBYyrfJf",
        "outputId": "05269daf-4450-47b3-9a9e-430d5fac56d0"
      },
      "execution_count": null,
      "outputs": [
        {
          "output_type": "stream",
          "name": "stdout",
          "text": [
            "Overwriting ID_Chen.m\n"
          ]
        }
      ]
    },
    {
      "cell_type": "markdown",
      "source": [
        "Se puede correr el script y mostrar las imágenes generadas, con la librería PIL de Python."
      ],
      "metadata": {
        "id": "hcaJF8UBCp_N"
      }
    },
    {
      "cell_type": "code",
      "source": [
        "!octave -W ID_Chen.m\n",
        "import scipy.io\n",
        "mat = scipy.io.loadmat('/content/ID_Chen.mat')\n",
        "from PIL import Image\n",
        "imt = Image.open(\"/content/Resultados_ID_Chen.png\")\n",
        "imt"
      ],
      "metadata": {
        "colab": {
          "base_uri": "https://localhost:8080/",
          "height": 1000
        },
        "id": "2zhr3DBmB6FH",
        "outputId": "6018fae2-9d97-44f7-a429-d81ff25db69e"
      },
      "execution_count": null,
      "outputs": [
        {
          "output_type": "stream",
          "name": "stdout",
          "text": [
            "Detected XLS interfaces: OpenJDK 64-Bit Server VM warning: Archived non-system classes are disabled because the java.system.class.loader property is specified (value = \"org.octave.OctClassLoader\"). To use archived non-system classes, this property must be not be set\n",
            "T1 =    4.0791e-04\n",
            "T2 =  2.8211e-05 + 5.0602e-06i\n",
            "yid_1 =  85.593\n",
            "yid_2 =  109.84\n",
            "yid_3 =  126.97\n",
            "T1_tl =    4.0766e-04\n",
            "T2_tl =  3.1946e-05 + 4.3247e-05i\n"
          ]
        },
        {
          "output_type": "execute_result",
          "data": {
            "text/plain": [
              "<PIL.PngImagePlugin.PngImageFile image mode=RGB size=1200x900 at 0x7F91DC494550>"
            ],
            "image/png": "[encoded data removed]"
          },
          "metadata": {},
          "execution_count": 22
        }
      ]
    },
    {
      "cell_type": "markdown",
      "source": [
        "También puede emplearse el comando save() desde el script, y luego desde Colab levantar el archivo. En éste caso ID_Chen.mat.\n",
        "Luego se emplean funciones Python de matplotlib y se muestran las variables de interés."
      ],
      "metadata": {
        "id": "UmUq3OgFC_XT"
      }
    },
    {
      "cell_type": "code",
      "source": [
        "# -W : no window system\n",
        "#!octave -W ID_Chen.m\n",
        "#\n",
        "import numpy as np\n",
        "import scipy.io\n",
        "mat = scipy.io.loadmat('/content/ID_Chen.mat')\n",
        "#%plot(t,ys,'r');title('Control realimentación de estados');xlabel('Tiempo');\n",
        "y1=mat.get('y1')\n",
        "y2=mat.get('y2')\n",
        "t_s=mat.get('t_s')\n",
        "t_D=mat.get('t_D')\n",
        "y_D=mat.get('y_D')\n",
        "#Importamos los datos que se generaron desde Octave en el archivo .mat\n",
        "#Ahora empezamos a plotear las variables\n",
        "from matplotlib import pyplot as plt\n",
        "fig, axs = plt.subplots(2)\n",
        "fig.suptitle('Identificación Chen')\n",
        "axs[0].plot(t_D, y_D, linewidth =1.0)\n",
        "axs[0].grid( True )\n",
        "axs[0].set_title('$Mediciones.$', fontsize=10);\n",
        "axs[0].set_ylabel('$\\omega_t$',rotation=0, fontsize=12) \n",
        "axs[1].plot(t_s, y1-y2, linewidth =1.0)\n",
        "axs[1].set_ylabel('$Identificada$',rotation=0, fontsize=12)\n",
        "axs[1].grid( True )\n",
        "axs[1].set_title('$Método\\n Chen.$', fontsize=10);"
      ],
      "metadata": {
        "colab": {
          "base_uri": "https://localhost:8080/",
          "height": 294
        },
        "id": "_wDJc8BErf7f",
        "outputId": "f5332e75-b5d5-493b-eaed-bec7639fadea"
      },
      "execution_count": null,
      "outputs": [
        {
          "output_type": "display_data",
          "data": {
            "text/plain": [
              "<Figure size 432x288 with 2 Axes>"
            ],
            "image/png": "[encoded data removed]"
          },
          "metadata": {
            "needs_background": "light"
          }
        }
      ]
    }
  ]
}